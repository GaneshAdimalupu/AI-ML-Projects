{
 "cells": [
  {
   "cell_type": "code",
   "execution_count": 8,
   "metadata": {},
   "outputs": [],
   "source": [
    "import cv2\n",
    "import numpy as np\n",
    "import face_recognition\n",
    "import os\n",
    "from datetime import datetime\n"
   ]
  },
  {
   "cell_type": "code",
   "execution_count": 9,
   "metadata": {},
   "outputs": [],
   "source": [
    "\n",
    "path = \"Dataset\"\n",
    "images = []\n",
    "names = []\n",
    "myList = os.listdir(path)\n",
    "# print(myList)\n"
   ]
  },
  {
   "cell_type": "code",
   "execution_count": 10,
   "metadata": {},
   "outputs": [],
   "source": [
    "\n",
    "for name in myList:\n",
    "    currentImg = cv2.imread(f\"{path}/{name}\")\n",
    "    images.append(currentImg)\n",
    "    names.append(os.path.splitext(name)[0])\n",
    "# print(names)\n",
    "\n"
   ]
  },
  {
   "cell_type": "code",
   "execution_count": 11,
   "metadata": {},
   "outputs": [],
   "source": [
    "\n",
    "def findEncodings(images):\n",
    "    encodeList = []\n",
    "    for img in images:\n",
    "        img = cv2.cvtColor(img, cv2.COLOR_BGR2RGB)\n",
    "        encode = face_recognition.face_encodings(img)[0]\n",
    "        encodeList.append(encode)\n",
    "\n",
    "    return encodeList\n",
    "\n"
   ]
  },
  {
   "cell_type": "code",
   "execution_count": 12,
   "metadata": {},
   "outputs": [],
   "source": [
    "\n",
    "def markAttendance(name):\n",
    "    with open('attendance.csv', 'r+') as f:\n",
    "        myDataList = f.readlines()\n",
    "        # print(myDataList)\n",
    "        nameList, timeList = [], []\n",
    "        for line in myDataList:\n",
    "            entry = line.split(',')\n",
    "            nameList.append(entry[0])\n",
    "\n",
    "        if name not in nameList:\n",
    "            now = datetime.now()\n",
    "            dtString = now.strftime(\"%H:%M:%S\")\n",
    "            f.writelines(f\"\\n{name}, {dtString}\")\n",
    "\n"
   ]
  },
  {
   "cell_type": "code",
   "execution_count": 14,
   "metadata": {},
   "outputs": [
    {
     "ename": "IndentationError",
     "evalue": "unindent does not match any outer indentation level (<string>, line 43)",
     "output_type": "error",
     "traceback": [
      "\u001b[1;36m  File \u001b[1;32m<string>:43\u001b[1;36m\u001b[0m\n\u001b[1;33m    faceLocTest = face_recognition.face_locations(imgTest)[0]\u001b[0m\n\u001b[1;37m                                                             ^\u001b[0m\n\u001b[1;31mIndentationError\u001b[0m\u001b[1;31m:\u001b[0m unindent does not match any outer indentation level\n"
     ]
    }
   ],
   "source": [
    "\n",
    "if __name__ == \"__main__\":\n",
    "    encodeListForKnownFaces = findEncodings(images)\n",
    "    # print(len(encodeListForKnownFaces))\n",
    "    print(\"Encoding completed\")\n",
    "\n",
    "    cap = cv2.VideoCapture(2)\n",
    "    while True:\n",
    "        success, img = cap.read()\n",
    "        imgSmall = cv2.resize(img, (0, 0), None, 0.25, 0.25)\n",
    "        imgSmall = cv2.cvtColor(imgSmall, cv2.COLOR_BGR2RGB)\n",
    "\n",
    "        facesInCurrentFrame = face_recognition.face_locations(imgSmall)\n",
    "        encodesCurrentFrame = face_recognition.face_encodings(imgSmall, facesInCurrentFrame)\n",
    "\n",
    "        for encodeFace, faceLocation in zip(encodesCurrentFrame, facesInCurrentFrame):\n",
    "            matches = face_recognition.compare_faces(encodeListForKnownFaces, encodeFace)\n",
    "            faceDistance = face_recognition.face_distance(encodeListForKnownFaces, encodeFace)\n",
    "            # print(faceDistance)\n",
    "            matchIndex = np.argmin(faceDistance)\n",
    "\n",
    "            if matches[matchIndex]:\n",
    "                name = names[matchIndex].upper()\n",
    "                print(name)\n",
    "                y1, x1, y2, x2 = faceLocation\n",
    "                y1, x1, y2, x2 = y1*4, x1*4, y2*4, x2*4\n",
    "                cv2.rectangle(img, (x1, y1), (x2, y2), (0, 255, 0), 2)\n",
    "                cv2.rectangle(img, (x1, y2-35), (x2, y2), (0, 255, 0), cv2.FILLED)\n",
    "                cv2.putText(img, name, (x1+6, y2-6), cv2.FONT_HERSHEY_SIMPLEX, 1, (255, 255, 255), 2)\n",
    "                markAttendance(name)\n",
    "\n",
    "            else:\n",
    "                print(\"Not identified\")\n",
    "                cv2.rectangle(img, (x1, y1), (x2, y2), (0, 0, 255), 2)\n",
    "                cv2.rectangle(img, (x1, y2 - 35), (x2, y2), (0, 0, 255), cv2.FILLED)\n",
    "                cv2.putText(img, \"Person is unknown\",\n",
    "                            (x1 + 6, y2 - 6), cv2.FONT_HERSHEY_SIMPLEX, 1, (255, 255, 255), 2)\n",
    "\n",
    "        cv2.imshow(\"Camera feed\", img)\n",
    "        if cv2.waitKey(1) & 0xFF == ord('q'):\n",
    "            break\n",
    "\n",
    "\n",
    " faceLocTest = face_recognition.face_locations(imgTest)[0]\n",
    " encodeTest = face_recognition.face_encodings(imgTest)[0]\n",
    " cv2.rectangle(imgTest, (faceLocTest[3], faceLocTest[0]), (faceLocTest[1], faceLocTest[2]), (0, 0, 255), 5)\n",
    "\n",
    " results = face_recognition.compare_faces([encodeElon], encodeTest)\n",
    " faceDis = face_recognition.face_distance([encodeElon], encodeTest)\n",
    " print(results, faceDis)\n",
    " cv2.putText(imgTest, f\"{results} {round(faceDis[0], 2)}\", (50, 50), cv2.FONT_HERSHEY_SIMPLEX, 1, (0, 0, 255), 2)"
   ]
  }
 ],
 "metadata": {
  "kernelspec": {
   "display_name": "Python 3",
   "language": "python",
   "name": "python3"
  },
  "language_info": {
   "codemirror_mode": {
    "name": "ipython",
    "version": 3
   },
   "file_extension": ".py",
   "mimetype": "text/x-python",
   "name": "python",
   "nbconvert_exporter": "python",
   "pygments_lexer": "ipython3",
   "version": "3.12.1"
  }
 },
 "nbformat": 4,
 "nbformat_minor": 2
}
